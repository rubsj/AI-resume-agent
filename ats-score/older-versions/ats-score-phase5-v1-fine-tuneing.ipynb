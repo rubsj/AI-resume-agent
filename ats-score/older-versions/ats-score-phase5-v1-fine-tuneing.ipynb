{
 "cells": [
  {
   "cell_type": "markdown",
   "id": "a62a7e73",
   "metadata": {},
   "source": [
    "## Install Dependencies"
   ]
  },
  {
   "cell_type": "code",
   "execution_count": null,
   "id": "80839423",
   "metadata": {},
   "outputs": [],
   "source": [
    "%pip install -q transformers peft datasets accelerate bitsandbytes\n"
   ]
  },
  {
   "cell_type": "markdown",
   "id": "0e991874",
   "metadata": {},
   "source": [
    "## Configurations  "
   ]
  },
  {
   "cell_type": "code",
   "execution_count": null,
   "id": "ec2f4fe5",
   "metadata": {},
   "outputs": [],
   "source": [
    "# ==============================\n",
    "# 🛠 CONFIGURATION\n",
    "# ==============================\n",
    "\n",
    "class Config:\n",
    "    JSON_OUTPUT_DIR = \"json_outputs_all_data\"\n",
    "    JSON_OUTPUT_NORMALIZED_DIR = \"json_outputs_all_data/normalized\"\n",
    "    JSON_OUTPUT_NORMALIZED_JD = \"json_outputs_all_data/normalized/jd\"\n",
    "    JSON_OUTPUT_NORMALIZED_RESUME = \"json_outputs_all_data/normalized/resume\"\n",
    "    JSON_OUTPUT_SCORING_DIR = \"json_outputs_all_data/scoring\"\n",
    "    JSON_OUTPUT_SCORING_SPLIT_DIR = \"json_outputs_all_data/scoring/split\"\n",
    "    JSON_OUTPUT_SCORING_FT_DATA = \"json_outputs_all_data/scoring/FT_data\"\n",
    "    JSON_OUTPUT_FINE_TUNE_SCORE = \"json_outputs_all_data/fine-tune/scored\"\n",
    "    JSON_OUTPUT_FINE_TUNE_RECORD = \"json_outputs_all_data/fine-tune/record\"\n",
    "    JSON_OUTPUT_FINE_TUNE_TEST_DATA = \"json_outputs_all_data/fine-tune/test-data\"\n",
    "    JSON_OUTPUT_FINE_TUNE_OUTPUT = \"json_outputs_all_data/fine-tune/output\""
   ]
  },
  {
   "cell_type": "markdown",
   "id": "fb1015a7",
   "metadata": {},
   "source": [
    "# QWEN2 LORA Fine Tuning"
   ]
  },
  {
   "cell_type": "markdown",
   "id": "9f3be7d2",
   "metadata": {},
   "source": [
    "###  Define Paths & Load Dataset"
   ]
  },
  {
   "cell_type": "code",
   "execution_count": null,
   "id": "e29034e5",
   "metadata": {},
   "outputs": [],
   "source": [
    "from datasets import load_dataset\n",
    "from pathlib import Path\n",
    "import os\n",
    "\n",
    "# ✅ Paths\n",
    "train_path =os.path.join(Config.JSON_OUTPUT_FINE_TUNE_TEST_DATA, \"train_local.jsonl\") \n",
    "eval_path = os.path.join(Config.JSON_OUTPUT_FINE_TUNE_TEST_DATA, \"eval_local.jsonl\") \n",
    "\n",
    "# ✅ Load JSONL files\n",
    "data = load_dataset(\"json\", data_files={\"train\": train_path, \"validation\": eval_path})\n",
    "data\n"
   ]
  },
  {
   "cell_type": "markdown",
   "id": "d5fb9444",
   "metadata": {},
   "source": [
    "### Prepare Tokenizer and Model (Qwen2-7B-Instruct)"
   ]
  },
  {
   "cell_type": "code",
   "execution_count": null,
   "id": "56e55e11",
   "metadata": {},
   "outputs": [],
   "source": [
    "from transformers import AutoModelForCausalLM, AutoTokenizer, BitsAndBytesConfig\n",
    "import torch\n",
    "\n",
    "model_name = \"Qwen/Qwen2-7B-Instruct\"\n",
    "\n",
    "bnb_config = BitsAndBytesConfig(load_in_4bit=True, bnb_4bit_use_double_quant=True,\n",
    "                                 bnb_4bit_quant_type=\"nf4\", bnb_4bit_compute_dtype=\"float16\")\n",
    "\n",
    "tokenizer = AutoTokenizer.from_pretrained(model_name, trust_remote_code=True)\n",
    "tokenizer.pad_token = tokenizer.eos_token  # Ensure tokenizer has a padding token\n",
    "\n",
    "has_cuda = torch.cuda.is_available()\n",
    "device_map = {\"\": 0} if has_cuda else \"cpu\"\n",
    "\n",
    "model = AutoModelForCausalLM.from_pretrained(model_name, quantization_config=bnb_config,\n",
    "                                              device_map=device_map, trust_remote_code=True)\n"
   ]
  },
  {
   "cell_type": "markdown",
   "id": "52bf88f7",
   "metadata": {},
   "source": [
    "###  Apply LoRA Configuration"
   ]
  },
  {
   "cell_type": "code",
   "execution_count": null,
   "id": "4bcddb68",
   "metadata": {},
   "outputs": [],
   "source": [
    "from peft import get_peft_model, LoraConfig, TaskType\n",
    "from peft import prepare_model_for_kbit_training\n",
    "\n",
    "peft_config = LoraConfig(\n",
    "    r=8,\n",
    "    lora_alpha=16,\n",
    "    target_modules=[\"q_proj\", \"v_proj\"],  # adjust for Qwen2 architecture\n",
    "    lora_dropout=0.05,\n",
    "    bias=\"none\",\n",
    "    task_type=TaskType.CAUSAL_LM,\n",
    ")\n",
    "\n",
    "model = prepare_model_for_kbit_training(model)\n",
    "\n",
    "model = get_peft_model(model, peft_config)\n",
    "\n",
    "model.gradient_checkpointing_enable()\n",
    "model.print_trainable_parameters()\n"
   ]
  },
  {
   "cell_type": "markdown",
   "id": "76db8b1d",
   "metadata": {},
   "source": [
    "### Tokenize Dataset"
   ]
  },
  {
   "cell_type": "code",
   "execution_count": null,
   "id": "836f3333",
   "metadata": {},
   "outputs": [],
   "source": [
    "def tokenize(example):\n",
    "    prompt = f\"<|im_start|>user\\n{example['input']}<|im_end|>\\n<|im_start|>assistant\\n{example['output']}<|im_end|>\"\n",
    "\n",
    "    tokens = tokenizer(\n",
    "        prompt,\n",
    "        padding=\"max_length\",\n",
    "        truncation=True,\n",
    "        max_length=512,\n",
    "    )\n",
    "\n",
    "    input_ids = tokens[\"input_ids\"]\n",
    "    attention_mask = tokens[\"attention_mask\"]\n",
    "\n",
    "    # Set labels to input_ids, but mask out padded tokens (0 in attention_mask)\n",
    "    labels = [token if mask == 1 else -100 for token, mask in zip(input_ids, attention_mask)]\n",
    "    \n",
    "    tokens[\"labels\"] = labels\n",
    "    return tokens\n"
   ]
  },
  {
   "cell_type": "code",
   "execution_count": null,
   "id": "2d6b93ce",
   "metadata": {},
   "outputs": [],
   "source": [
    "tokenized_data = data.map(\n",
    "    tokenize,\n",
    "    remove_columns=data[\"train\"].column_names,\n",
    "    batched=False\n",
    ")\n",
    "\n",
    "print(tokenized_data[\"train\"][0])\n"
   ]
  },
  {
   "cell_type": "code",
   "execution_count": null,
   "id": "82aeed29",
   "metadata": {},
   "outputs": [],
   "source": [
    "from transformers import DataCollatorForLanguageModeling\n",
    "\n",
    "data_collator = DataCollatorForLanguageModeling(\n",
    "    tokenizer=tokenizer,\n",
    "    mlm=False  # causal LM task, not masked LM\n",
    ")\n"
   ]
  },
  {
   "cell_type": "markdown",
   "id": "56731dfc",
   "metadata": {},
   "source": [
    "### Training Configuration"
   ]
  },
  {
   "cell_type": "code",
   "execution_count": null,
   "id": "42d3940a",
   "metadata": {},
   "outputs": [],
   "source": [
    "from torch.utils.data import default_collate\n",
    "import torch\n",
    "\n",
    "def custom_collator(batch):\n",
    "    batch = default_collate(batch)\n",
    "    batch[\"labels\"] = torch.tensor(batch[\"labels\"], dtype=torch.long)\n",
    "    return batch\n"
   ]
  },
  {
   "cell_type": "code",
   "execution_count": null,
   "id": "28642216",
   "metadata": {},
   "outputs": [],
   "source": [
    "import torch\n",
    "import torch.nn.functional as F\n",
    "from transformers import Trainer\n",
    "\n",
    "class DebugLossTrainer(Trainer):\n",
    "    def compute_loss(self, model, inputs, return_outputs=False, **kwargs):\n",
    "        labels = inputs.pop(\"labels\")\n",
    "        outputs = model(**inputs)\n",
    "\n",
    "        logits = outputs.logits  # (batch, seq_len, vocab_size)\n",
    "        shift_logits = logits[..., :-1, :].contiguous()\n",
    "        shift_labels = labels[..., 1:].contiguous()\n",
    "\n",
    "        # Manually compute cross-entropy loss\n",
    "        loss = F.cross_entropy(\n",
    "            shift_logits.view(-1, shift_logits.size(-1)),\n",
    "            shift_labels.view(-1),\n",
    "            ignore_index=-100\n",
    "        )\n",
    "\n",
    "        print(\"💥 Manually computed loss:\", loss)\n",
    "        print(\"requires_grad?\", loss.requires_grad)\n",
    "\n",
    "        return (loss, outputs) if return_outputs else loss\n"
   ]
  },
  {
   "cell_type": "code",
   "execution_count": null,
   "id": "aec2e2ae",
   "metadata": {},
   "outputs": [],
   "source": [
    "from torch.optim import AdamW\n",
    "from bitsandbytes.optim import AdamW as AdamW8bit\n",
    "\n",
    "optimizer = AdamW8bit(model.parameters(), lr=2e-4)\n"
   ]
  },
  {
   "cell_type": "code",
   "execution_count": null,
   "id": "d842eb1b",
   "metadata": {},
   "outputs": [],
   "source": [
    "from transformers import TrainingArguments, Trainer\n",
    "\n",
    "training_args = TrainingArguments(\n",
    "    output_dir=Config.JSON_OUTPUT_FINE_TUNE_OUTPUT,  #\"./qwen2-lora-local\",\n",
    "    per_device_train_batch_size=1,\n",
    "    per_device_eval_batch_size=1,\n",
    "    gradient_accumulation_steps=8,\n",
    "    eval_strategy=\"epoch\",\n",
    "    logging_strategy=\"steps\",\n",
    "    logging_steps=10,\n",
    "    num_train_epochs=1,\n",
    "    save_strategy=\"epoch\",\n",
    "    learning_rate=2e-4,\n",
    "    fp16=True,\n",
    "    bf16=False,\n",
    "    report_to=\"none\"\n",
    ")\n",
    "\n",
    "print(tokenized_data)\n",
    "print(tokenized_data[\"train\"][0])\n",
    "\n",
    "\n",
    "trainer = DebugLossTrainer(\n",
    "    model=model,\n",
    "    args=training_args,\n",
    "    train_dataset=tokenized_data[\"train\"],\n",
    "    eval_dataset=tokenized_data[\"validation\"],\n",
    "    data_collator=data_collator ,\n",
    "    optimizers=(optimizer, None),\n",
    ")\n"
   ]
  },
  {
   "cell_type": "code",
   "execution_count": null,
   "id": "5dd76669",
   "metadata": {},
   "outputs": [],
   "source": [
    "from inspect import signature\n",
    "print(signature(model.forward))\n"
   ]
  },
  {
   "cell_type": "markdown",
   "id": "a47af929",
   "metadata": {},
   "source": [
    "### Start Training"
   ]
  },
  {
   "cell_type": "code",
   "execution_count": null,
   "id": "c4ddffc9",
   "metadata": {},
   "outputs": [],
   "source": [
    "trainer.train()\n"
   ]
  },
  {
   "cell_type": "markdown",
   "id": "42585db5",
   "metadata": {},
   "source": [
    "### Save Adapter"
   ]
  },
  {
   "cell_type": "code",
   "execution_count": null,
   "id": "676bbae7",
   "metadata": {},
   "outputs": [],
   "source": [
    "model.save_pretrained(\"qwen2-lora-adapter\")\n",
    "tokenizer.save_pretrained(\"qwen2-lora-adapter\")\n"
   ]
  }
 ],
 "metadata": {
  "kernelspec": {
   "display_name": ".venv (3.12.10)",
   "language": "python",
   "name": "python3"
  },
  "language_info": {
   "codemirror_mode": {
    "name": "ipython",
    "version": 3
   },
   "file_extension": ".py",
   "mimetype": "text/x-python",
   "name": "python",
   "nbconvert_exporter": "python",
   "pygments_lexer": "ipython3",
   "version": "3.12.10"
  }
 },
 "nbformat": 4,
 "nbformat_minor": 5
}
