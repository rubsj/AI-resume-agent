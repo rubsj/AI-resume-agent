{
 "cells": [
  {
   "cell_type": "code",
   "execution_count": null,
   "id": "7614037f",
   "metadata": {},
   "outputs": [],
   "source": [
    "%pip  install docling"
   ]
  },
  {
   "cell_type": "code",
   "execution_count": null,
   "id": "92ec047e",
   "metadata": {},
   "outputs": [],
   "source": [
    "from docling.document_converter import DocumentConverter\n",
    "\n",
    "source = \"datasets/resume-dataset/data/data/ACCOUNTANT/10554236.pdf\"  # document per local path or URL\n",
    "converter = DocumentConverter()\n",
    "result = converter.convert(source)\n",
    "print(result.document.export_to_text())  # output: \"## Docling Technical Report[...]\""
   ]
  },
  {
   "cell_type": "code",
   "execution_count": null,
   "id": "2a4281e1",
   "metadata": {},
   "outputs": [],
   "source": [
    "from docling.document_converter import DocumentConverter\n",
    "import json\n",
    "\n",
    "# Initialize the DocumentConverter\n",
    "converter = DocumentConverter()\n",
    "\n",
    "# Specify the path to your PDF file\n",
    "pdf_path = \"datasets/resume-dataset/data/data/ACCOUNTANT/10554236.pdf\" \n",
    "\n",
    "# Convert the PDF document\n",
    "result = converter.convert(pdf_path)\n",
    "\n",
    "# Export the result to a dictionary\n",
    "result_dict = result.document.export_to_dict()\n",
    "\n",
    "# Convert the dictionary to a JSON string with indentation\n",
    "json_output = json.dumps(result_dict, indent=2)\n",
    "\n",
    "# Print the JSON output\n",
    "print(json_output)\n"
   ]
  },
  {
   "cell_type": "code",
   "execution_count": null,
   "id": "10cc2a0d",
   "metadata": {},
   "outputs": [],
   "source": [
    "from docling import Document\n",
    "from docling.extractors import JsonSchemaExtractor\n",
    "from pydantic import BaseModel\n",
    "from typing import List, Optional\n",
    "import json\n",
    "\n",
    "# Sample resume or JD text you already extracted\n",
    "text = \"\"\"\n",
    "John Doe\n",
    "Email: john.doe@example.com\n",
    "Phone: +1-555-1234\n",
    "Experience:\n",
    "- Software Engineer at Google (2018–2022)\n",
    "- Lead Developer at Stripe (2022–Present)\n",
    "Education:\n",
    "- BSc in Computer Science, MIT\n",
    "\"\"\"\n",
    "\n",
    "# Step 1: Wrap your string in a Document object\n",
    "doc = Document.from_text(text)\n",
    "\n",
    "# Step 2: Define your schema using Pydantic\n",
    "class ResumeSchema(BaseModel):\n",
    "    name: str\n",
    "    email: str\n",
    "    phone: str\n",
    "    experience: List[str]\n",
    "    education: List[str]\n",
    "\n",
    "# Step 3: Use the JsonSchemaExtractor\n",
    "extractor = JsonSchemaExtractor(schema=ResumeSchema)\n",
    "\n",
    "# Step 4: Extract the structured data\n",
    "result = extractor.extract(doc)\n",
    "\n",
    "# Step 5: Print result\n",
    "print(json.dumps(result, indent=2))\n"
   ]
  },
  {
   "cell_type": "code",
   "execution_count": 7,
   "id": "e51fb7b7",
   "metadata": {},
   "outputs": [
    {
     "ename": "UnicodeDecodeError",
     "evalue": "'utf-8' codec can't decode byte 0x96 in position 109: invalid start byte",
     "output_type": "error",
     "traceback": [
      "\u001b[31m---------------------------------------------------------------------------\u001b[39m",
      "\u001b[31mUnicodeDecodeError\u001b[39m                        Traceback (most recent call last)",
      "\u001b[36mCell\u001b[39m\u001b[36m \u001b[39m\u001b[32mIn[7]\u001b[39m\u001b[32m, line 24\u001b[39m\n\u001b[32m     22\u001b[39m \u001b[38;5;66;03m# Use Docling's converter\u001b[39;00m\n\u001b[32m     23\u001b[39m converter = DocumentConverter()\n\u001b[32m---> \u001b[39m\u001b[32m24\u001b[39m result = \u001b[43mconverter\u001b[49m\u001b[43m.\u001b[49m\u001b[43mconvert\u001b[49m\u001b[43m(\u001b[49m\u001b[43mtmp_path\u001b[49m\u001b[43m)\u001b[49m\n\u001b[32m     26\u001b[39m \u001b[38;5;66;03m# Export to JSON dict\u001b[39;00m\n\u001b[32m     27\u001b[39m result_dict = result.document.export_to_dict()\n",
      "\u001b[36mFile \u001b[39m\u001b[32mc:\\Ruby\\projects\\AI-resume-agent\\.venv\\Lib\\site-packages\\pydantic\\_internal\\_validate_call.py:39\u001b[39m, in \u001b[36mupdate_wrapper_attributes.<locals>.wrapper_function\u001b[39m\u001b[34m(*args, **kwargs)\u001b[39m\n\u001b[32m     37\u001b[39m \u001b[38;5;129m@functools\u001b[39m.wraps(wrapped)\n\u001b[32m     38\u001b[39m \u001b[38;5;28;01mdef\u001b[39;00m\u001b[38;5;250m \u001b[39m\u001b[34mwrapper_function\u001b[39m(*args, **kwargs):\n\u001b[32m---> \u001b[39m\u001b[32m39\u001b[39m     \u001b[38;5;28;01mreturn\u001b[39;00m \u001b[43mwrapper\u001b[49m\u001b[43m(\u001b[49m\u001b[43m*\u001b[49m\u001b[43margs\u001b[49m\u001b[43m,\u001b[49m\u001b[43m \u001b[49m\u001b[43m*\u001b[49m\u001b[43m*\u001b[49m\u001b[43mkwargs\u001b[49m\u001b[43m)\u001b[49m\n",
      "\u001b[36mFile \u001b[39m\u001b[32mc:\\Ruby\\projects\\AI-resume-agent\\.venv\\Lib\\site-packages\\pydantic\\_internal\\_validate_call.py:136\u001b[39m, in \u001b[36mValidateCallWrapper.__call__\u001b[39m\u001b[34m(self, *args, **kwargs)\u001b[39m\n\u001b[32m    133\u001b[39m \u001b[38;5;28;01mif\u001b[39;00m \u001b[38;5;129;01mnot\u001b[39;00m \u001b[38;5;28mself\u001b[39m.__pydantic_complete__:\n\u001b[32m    134\u001b[39m     \u001b[38;5;28mself\u001b[39m._create_validators()\n\u001b[32m--> \u001b[39m\u001b[32m136\u001b[39m res = \u001b[38;5;28;43mself\u001b[39;49m\u001b[43m.\u001b[49m\u001b[43m__pydantic_validator__\u001b[49m\u001b[43m.\u001b[49m\u001b[43mvalidate_python\u001b[49m\u001b[43m(\u001b[49m\u001b[43mpydantic_core\u001b[49m\u001b[43m.\u001b[49m\u001b[43mArgsKwargs\u001b[49m\u001b[43m(\u001b[49m\u001b[43margs\u001b[49m\u001b[43m,\u001b[49m\u001b[43m \u001b[49m\u001b[43mkwargs\u001b[49m\u001b[43m)\u001b[49m\u001b[43m)\u001b[49m\n\u001b[32m    137\u001b[39m \u001b[38;5;28;01mif\u001b[39;00m \u001b[38;5;28mself\u001b[39m.__return_pydantic_validator__:\n\u001b[32m    138\u001b[39m     \u001b[38;5;28;01mreturn\u001b[39;00m \u001b[38;5;28mself\u001b[39m.__return_pydantic_validator__(res)\n",
      "\u001b[36mFile \u001b[39m\u001b[32mc:\\Ruby\\projects\\AI-resume-agent\\.venv\\Lib\\site-packages\\docling\\document_converter.py:222\u001b[39m, in \u001b[36mDocumentConverter.convert\u001b[39m\u001b[34m(self, source, headers, raises_on_error, max_num_pages, max_file_size, page_range)\u001b[39m\n\u001b[32m    204\u001b[39m \u001b[38;5;129m@validate_call\u001b[39m(config=ConfigDict(strict=\u001b[38;5;28;01mTrue\u001b[39;00m))\n\u001b[32m    205\u001b[39m \u001b[38;5;28;01mdef\u001b[39;00m\u001b[38;5;250m \u001b[39m\u001b[34mconvert\u001b[39m(\n\u001b[32m    206\u001b[39m     \u001b[38;5;28mself\u001b[39m,\n\u001b[32m   (...)\u001b[39m\u001b[32m    212\u001b[39m     page_range: PageRange = DEFAULT_PAGE_RANGE,\n\u001b[32m    213\u001b[39m ) -> ConversionResult:\n\u001b[32m    214\u001b[39m     all_res = \u001b[38;5;28mself\u001b[39m.convert_all(\n\u001b[32m    215\u001b[39m         source=[source],\n\u001b[32m    216\u001b[39m         raises_on_error=raises_on_error,\n\u001b[32m   (...)\u001b[39m\u001b[32m    220\u001b[39m         page_range=page_range,\n\u001b[32m    221\u001b[39m     )\n\u001b[32m--> \u001b[39m\u001b[32m222\u001b[39m     \u001b[38;5;28;01mreturn\u001b[39;00m \u001b[38;5;28;43mnext\u001b[39;49m\u001b[43m(\u001b[49m\u001b[43mall_res\u001b[49m\u001b[43m)\u001b[49m\n",
      "\u001b[36mFile \u001b[39m\u001b[32mc:\\Ruby\\projects\\AI-resume-agent\\.venv\\Lib\\site-packages\\docling\\document_converter.py:245\u001b[39m, in \u001b[36mDocumentConverter.convert_all\u001b[39m\u001b[34m(self, source, headers, raises_on_error, max_num_pages, max_file_size, page_range)\u001b[39m\n\u001b[32m    242\u001b[39m conv_res_iter = \u001b[38;5;28mself\u001b[39m._convert(conv_input, raises_on_error=raises_on_error)\n\u001b[32m    244\u001b[39m had_result = \u001b[38;5;28;01mFalse\u001b[39;00m\n\u001b[32m--> \u001b[39m\u001b[32m245\u001b[39m \u001b[43m\u001b[49m\u001b[38;5;28;43;01mfor\u001b[39;49;00m\u001b[43m \u001b[49m\u001b[43mconv_res\u001b[49m\u001b[43m \u001b[49m\u001b[38;5;129;43;01min\u001b[39;49;00m\u001b[43m \u001b[49m\u001b[43mconv_res_iter\u001b[49m\u001b[43m:\u001b[49m\n\u001b[32m    246\u001b[39m \u001b[43m    \u001b[49m\u001b[43mhad_result\u001b[49m\u001b[43m \u001b[49m\u001b[43m=\u001b[49m\u001b[43m \u001b[49m\u001b[38;5;28;43;01mTrue\u001b[39;49;00m\n\u001b[32m    247\u001b[39m \u001b[43m    \u001b[49m\u001b[38;5;28;43;01mif\u001b[39;49;00m\u001b[43m \u001b[49m\u001b[43mraises_on_error\u001b[49m\u001b[43m \u001b[49m\u001b[38;5;129;43;01mand\u001b[39;49;00m\u001b[43m \u001b[49m\u001b[43mconv_res\u001b[49m\u001b[43m.\u001b[49m\u001b[43mstatus\u001b[49m\u001b[43m \u001b[49m\u001b[38;5;129;43;01mnot\u001b[39;49;00m\u001b[43m \u001b[49m\u001b[38;5;129;43;01min\u001b[39;49;00m\u001b[43m \u001b[49m\u001b[43m{\u001b[49m\n\u001b[32m    248\u001b[39m \u001b[43m        \u001b[49m\u001b[43mConversionStatus\u001b[49m\u001b[43m.\u001b[49m\u001b[43mSUCCESS\u001b[49m\u001b[43m,\u001b[49m\n\u001b[32m    249\u001b[39m \u001b[43m        \u001b[49m\u001b[43mConversionStatus\u001b[49m\u001b[43m.\u001b[49m\u001b[43mPARTIAL_SUCCESS\u001b[49m\u001b[43m,\u001b[49m\n\u001b[32m    250\u001b[39m \u001b[43m    \u001b[49m\u001b[43m}\u001b[49m\u001b[43m:\u001b[49m\n",
      "\u001b[36mFile \u001b[39m\u001b[32mc:\\Ruby\\projects\\AI-resume-agent\\.venv\\Lib\\site-packages\\docling\\document_converter.py:267\u001b[39m, in \u001b[36mDocumentConverter._convert\u001b[39m\u001b[34m(self, conv_input, raises_on_error)\u001b[39m\n\u001b[32m    262\u001b[39m \u001b[38;5;28;01mdef\u001b[39;00m\u001b[38;5;250m \u001b[39m\u001b[34m_convert\u001b[39m(\n\u001b[32m    263\u001b[39m     \u001b[38;5;28mself\u001b[39m, conv_input: _DocumentConversionInput, raises_on_error: \u001b[38;5;28mbool\u001b[39m\n\u001b[32m    264\u001b[39m ) -> Iterator[ConversionResult]:\n\u001b[32m    265\u001b[39m     start_time = time.monotonic()\n\u001b[32m--> \u001b[39m\u001b[32m267\u001b[39m \u001b[43m    \u001b[49m\u001b[38;5;28;43;01mfor\u001b[39;49;00m\u001b[43m \u001b[49m\u001b[43minput_batch\u001b[49m\u001b[43m \u001b[49m\u001b[38;5;129;43;01min\u001b[39;49;00m\u001b[43m \u001b[49m\u001b[43mchunkify\u001b[49m\u001b[43m(\u001b[49m\n\u001b[32m    268\u001b[39m \u001b[43m        \u001b[49m\u001b[43mconv_input\u001b[49m\u001b[43m.\u001b[49m\u001b[43mdocs\u001b[49m\u001b[43m(\u001b[49m\u001b[38;5;28;43mself\u001b[39;49m\u001b[43m.\u001b[49m\u001b[43mformat_to_options\u001b[49m\u001b[43m)\u001b[49m\u001b[43m,\u001b[49m\n\u001b[32m    269\u001b[39m \u001b[43m        \u001b[49m\u001b[43msettings\u001b[49m\u001b[43m.\u001b[49m\u001b[43mperf\u001b[49m\u001b[43m.\u001b[49m\u001b[43mdoc_batch_size\u001b[49m\u001b[43m,\u001b[49m\u001b[43m  \u001b[49m\u001b[38;5;66;43;03m# pass format_options\u001b[39;49;00m\n\u001b[32m    270\u001b[39m \u001b[43m    \u001b[49m\u001b[43m)\u001b[49m\u001b[43m:\u001b[49m\n\u001b[32m    271\u001b[39m \u001b[43m        \u001b[49m\u001b[43m_log\u001b[49m\u001b[43m.\u001b[49m\u001b[43minfo\u001b[49m\u001b[43m(\u001b[49m\u001b[33;43m\"\u001b[39;49m\u001b[33;43mGoing to convert document batch...\u001b[39;49m\u001b[33;43m\"\u001b[39;49m\u001b[43m)\u001b[49m\n\u001b[32m    273\u001b[39m \u001b[43m        \u001b[49m\u001b[38;5;66;43;03m# parallel processing only within input_batch\u001b[39;49;00m\n\u001b[32m    274\u001b[39m \u001b[43m        \u001b[49m\u001b[38;5;66;43;03m# with ThreadPoolExecutor(\u001b[39;49;00m\n\u001b[32m    275\u001b[39m \u001b[43m        \u001b[49m\u001b[38;5;66;43;03m#    max_workers=settings.perf.doc_batch_concurrency\u001b[39;49;00m\n\u001b[32m    276\u001b[39m \u001b[43m        \u001b[49m\u001b[38;5;66;43;03m# ) as pool:\u001b[39;49;00m\n\u001b[32m    277\u001b[39m \u001b[43m        \u001b[49m\u001b[38;5;66;43;03m#   yield from pool.map(self.process_document, input_batch)\u001b[39;49;00m\n\u001b[32m    278\u001b[39m \u001b[43m        \u001b[49m\u001b[38;5;66;43;03m# Note: PDF backends are not thread-safe, thread pool usage was disabled.\u001b[39;49;00m\n",
      "\u001b[36mFile \u001b[39m\u001b[32mc:\\Ruby\\projects\\AI-resume-agent\\.venv\\Lib\\site-packages\\docling\\utils\\utils.py:15\u001b[39m, in \u001b[36mchunkify\u001b[39m\u001b[34m(iterator, chunk_size)\u001b[39m\n\u001b[32m     13\u001b[39m \u001b[38;5;28;01mif\u001b[39;00m \u001b[38;5;28misinstance\u001b[39m(iterator, List):\n\u001b[32m     14\u001b[39m     iterator = \u001b[38;5;28miter\u001b[39m(iterator)\n\u001b[32m---> \u001b[39m\u001b[32m15\u001b[39m \u001b[43m\u001b[49m\u001b[38;5;28;43;01mfor\u001b[39;49;00m\u001b[43m \u001b[49m\u001b[43mfirst\u001b[49m\u001b[43m \u001b[49m\u001b[38;5;129;43;01min\u001b[39;49;00m\u001b[43m \u001b[49m\u001b[43miterator\u001b[49m\u001b[43m:\u001b[49m\u001b[43m  \u001b[49m\u001b[38;5;66;43;03m# Take the first element from the iterator\u001b[39;49;00m\n\u001b[32m     16\u001b[39m \u001b[43m    \u001b[49m\u001b[38;5;28;43;01myield\u001b[39;49;00m\u001b[43m \u001b[49m\u001b[43m[\u001b[49m\u001b[43mfirst\u001b[49m\u001b[43m,\u001b[49m\u001b[43m \u001b[49m\u001b[43m*\u001b[49m\u001b[38;5;28;43mlist\u001b[39;49m\u001b[43m(\u001b[49m\u001b[43mislice\u001b[49m\u001b[43m(\u001b[49m\u001b[43miterator\u001b[49m\u001b[43m,\u001b[49m\u001b[43m \u001b[49m\u001b[43mchunk_size\u001b[49m\u001b[43m \u001b[49m\u001b[43m-\u001b[49m\u001b[43m \u001b[49m\u001b[32;43m1\u001b[39;49m\u001b[43m)\u001b[49m\u001b[43m)\u001b[49m\u001b[43m]\u001b[49m\n",
      "\u001b[36mFile \u001b[39m\u001b[32mc:\\Ruby\\projects\\AI-resume-agent\\.venv\\Lib\\site-packages\\docling\\datamodel\\document.py:246\u001b[39m, in \u001b[36m_DocumentConversionInput.docs\u001b[39m\u001b[34m(self, format_options)\u001b[39m\n\u001b[32m    240\u001b[39m \u001b[38;5;28;01mfor\u001b[39;00m item \u001b[38;5;129;01min\u001b[39;00m \u001b[38;5;28mself\u001b[39m.path_or_stream_iterator:\n\u001b[32m    241\u001b[39m     obj = (\n\u001b[32m    242\u001b[39m         resolve_source_to_stream(item, \u001b[38;5;28mself\u001b[39m.headers)\n\u001b[32m    243\u001b[39m         \u001b[38;5;28;01mif\u001b[39;00m \u001b[38;5;28misinstance\u001b[39m(item, \u001b[38;5;28mstr\u001b[39m)\n\u001b[32m    244\u001b[39m         \u001b[38;5;28;01melse\u001b[39;00m item\n\u001b[32m    245\u001b[39m     )\n\u001b[32m--> \u001b[39m\u001b[32m246\u001b[39m     \u001b[38;5;28mformat\u001b[39m = \u001b[38;5;28;43mself\u001b[39;49m\u001b[43m.\u001b[49m\u001b[43m_guess_format\u001b[49m\u001b[43m(\u001b[49m\u001b[43mobj\u001b[49m\u001b[43m)\u001b[49m\n\u001b[32m    247\u001b[39m     backend: Type[AbstractDocumentBackend]\n\u001b[32m    248\u001b[39m     \u001b[38;5;28;01mif\u001b[39;00m \u001b[38;5;28mformat\u001b[39m \u001b[38;5;129;01mnot\u001b[39;00m \u001b[38;5;129;01min\u001b[39;00m format_options.keys():\n",
      "\u001b[36mFile \u001b[39m\u001b[32mc:\\Ruby\\projects\\AI-resume-agent\\.venv\\Lib\\site-packages\\docling\\datamodel\\document.py:323\u001b[39m, in \u001b[36m_DocumentConversionInput._guess_format\u001b[39m\u001b[34m(self, obj)\u001b[39m\n\u001b[32m    321\u001b[39m         \u001b[38;5;28;01mreturn\u001b[39;00m formats[\u001b[32m0\u001b[39m]\n\u001b[32m    322\u001b[39m     \u001b[38;5;28;01melse\u001b[39;00m:  \u001b[38;5;66;03m# ambiguity in formats\u001b[39;00m\n\u001b[32m--> \u001b[39m\u001b[32m323\u001b[39m         \u001b[38;5;28;01mreturn\u001b[39;00m \u001b[43m_DocumentConversionInput\u001b[49m\u001b[43m.\u001b[49m\u001b[43m_guess_from_content\u001b[49m\u001b[43m(\u001b[49m\n\u001b[32m    324\u001b[39m \u001b[43m            \u001b[49m\u001b[43mcontent\u001b[49m\u001b[43m,\u001b[49m\u001b[43m \u001b[49m\u001b[43mmime\u001b[49m\u001b[43m,\u001b[49m\u001b[43m \u001b[49m\u001b[43mformats\u001b[49m\n\u001b[32m    325\u001b[39m \u001b[43m        \u001b[49m\u001b[43m)\u001b[49m\n\u001b[32m    326\u001b[39m \u001b[38;5;28;01melse\u001b[39;00m:\n\u001b[32m    327\u001b[39m     \u001b[38;5;28;01mreturn\u001b[39;00m \u001b[38;5;28;01mNone\u001b[39;00m\n",
      "\u001b[36mFile \u001b[39m\u001b[32mc:\\Ruby\\projects\\AI-resume-agent\\.venv\\Lib\\site-packages\\docling\\datamodel\\document.py:335\u001b[39m, in \u001b[36m_DocumentConversionInput._guess_from_content\u001b[39m\u001b[34m(content, mime, formats)\u001b[39m\n\u001b[32m    333\u001b[39m \u001b[38;5;250m\u001b[39m\u001b[33;03m\"\"\"Guess the input format of a document by checking part of its content.\"\"\"\u001b[39;00m\n\u001b[32m    334\u001b[39m input_format: Optional[InputFormat] = \u001b[38;5;28;01mNone\u001b[39;00m\n\u001b[32m--> \u001b[39m\u001b[32m335\u001b[39m content_str = \u001b[43mcontent\u001b[49m\u001b[43m.\u001b[49m\u001b[43mdecode\u001b[49m\u001b[43m(\u001b[49m\u001b[33;43m\"\u001b[39;49m\u001b[33;43mutf-8\u001b[39;49m\u001b[33;43m\"\u001b[39;49m\u001b[43m)\u001b[49m\n\u001b[32m    337\u001b[39m \u001b[38;5;28;01mif\u001b[39;00m mime == \u001b[33m\"\u001b[39m\u001b[33mapplication/xml\u001b[39m\u001b[33m\"\u001b[39m:\n\u001b[32m    338\u001b[39m     match_doctype = re.search(\u001b[33mr\u001b[39m\u001b[33m\"\u001b[39m\u001b[33m<!DOCTYPE [^>]+>\u001b[39m\u001b[33m\"\u001b[39m, content_str)\n",
      "\u001b[31mUnicodeDecodeError\u001b[39m: 'utf-8' codec can't decode byte 0x96 in position 109: invalid start byte"
     ]
    }
   ],
   "source": [
    "from docling.document_converter import DocumentConverter\n",
    "import json\n",
    "import tempfile\n",
    "\n",
    "# Raw resume text you extracted\n",
    "resume_text = \"\"\"\n",
    "John Doe\n",
    "Email: john.doe@example.com\n",
    "Phone: +1-555-1234\n",
    "Experience:\n",
    "- Software Engineer at Google (2018–2022)\n",
    "- Lead Developer at Stripe (2022–Present)\n",
    "Education:\n",
    "- BSc in Computer Science, MIT\n",
    "\"\"\"\n",
    "\n",
    "# Save to a temporary .txt file\n",
    "with tempfile.NamedTemporaryFile(mode='w+', suffix='.txt', delete=False) as tmp:\n",
    "    tmp.write(resume_text)\n",
    "    tmp_path = tmp.name\n",
    "\n",
    "# Use Docling's converter\n",
    "converter = DocumentConverter()\n",
    "result = converter.convert(tmp_path)\n",
    "\n",
    "# Export to JSON dict\n",
    "result_dict = result.document.export_to_dict()\n",
    "print(json.dumps(result_dict, indent=2))\n"
   ]
  }
 ],
 "metadata": {
  "kernelspec": {
   "display_name": ".venv (3.12.10)",
   "language": "python",
   "name": "python3"
  },
  "language_info": {
   "codemirror_mode": {
    "name": "ipython",
    "version": 3
   },
   "file_extension": ".py",
   "mimetype": "text/x-python",
   "name": "python",
   "nbconvert_exporter": "python",
   "pygments_lexer": "ipython3",
   "version": "3.12.10"
  }
 },
 "nbformat": 4,
 "nbformat_minor": 5
}
