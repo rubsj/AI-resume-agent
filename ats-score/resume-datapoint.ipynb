{
 "cells": [
  {
   "cell_type": "code",
   "execution_count": null,
   "id": "098574ec",
   "metadata": {},
   "outputs": [],
   "source": [
    "%pip install matplotlib\n"
   ]
  },
  {
   "cell_type": "code",
   "execution_count": 1,
   "id": "4d590249",
   "metadata": {},
   "outputs": [],
   "source": [
    "import json\n",
    "import matplotlib.pyplot as plt\n",
    "\n",
    "def analyze_resume_lengths(json_path):\n",
    "    resume_lengths = []\n",
    "\n",
    "    with open(json_path, 'r', encoding='utf-8') as f:\n",
    "        for line in f:\n",
    "            try:\n",
    "                record = json.loads(line.strip())\n",
    "                resume_str = record.get(\"Resume_str\", \"\")\n",
    "                resume_lengths.append(len(resume_str))\n",
    "            except json.JSONDecodeError:\n",
    "                continue\n",
    "\n",
    "    if not resume_lengths:\n",
    "        print(\"No resume strings found.\")\n",
    "        return\n",
    "\n",
    "    max_len = max(resume_lengths)\n",
    "    avg_len = sum(resume_lengths) / len(resume_lengths)\n",
    "\n",
    "    print(f\"Max Resume_str length: {max_len}\")\n",
    "    print(f\"Average Resume_str length: {avg_len:.2f}\")\n",
    "\n",
    "    # Plot length distribution\n",
    "    plt.figure(figsize=(10, 5))\n",
    "    plt.hist(resume_lengths, bins=30, color='skyblue', edgecolor='black')\n",
    "    plt.title(\"Distribution of Resume_str Lengths\")\n",
    "    plt.xlabel(\"Length of Resume_str (characters)\")\n",
    "    plt.ylabel(\"Number of Resumes\")\n",
    "    plt.grid(True)\n",
    "    plt.show()\n",
    "\n",
    "\n"
   ]
  },
  {
   "cell_type": "code",
   "execution_count": 2,
   "id": "07081a33",
   "metadata": {},
   "outputs": [
    {
     "name": "stdout",
     "output_type": "stream",
     "text": [
      "Max Resume_str length: 38842\n",
      "Average Resume_str length: 6295.31\n"
     ]
    },
    {
     "data": {
      "image/png": "[encoded data removed]",
      "text/plain": [
       "<Figure size 1000x500 with 1 Axes>"
      ]
     },
     "metadata": {},
     "output_type": "display_data"
    }
   ],
   "source": [
    "# Example usage\n",
    "analyze_resume_lengths(\"json_outputs_all_data/parsed_resumes.json\")\n"
   ]
  },
  {
   "cell_type": "code",
   "execution_count": 6,
   "id": "0ee44a29",
   "metadata": {},
   "outputs": [],
   "source": [
    "import json\n",
    "import numpy as np\n",
    "\n",
    "def count_resumes_per_bin(json_path, num_bins=30):\n",
    "    resume_lengths = []\n",
    "\n",
    "    with open(json_path, 'r', encoding='utf-8') as f:\n",
    "        for line in f:\n",
    "            try:\n",
    "                record = json.loads(line.strip())\n",
    "                resume_str = record.get(\"Resume_str\", \"\")\n",
    "                resume_lengths.append(len(resume_str))\n",
    "            except json.JSONDecodeError:\n",
    "                continue\n",
    "\n",
    "    # Compute histogram (bin_counts and bin_edges)\n",
    "    counts, bin_edges = np.histogram(resume_lengths, bins=num_bins)\n",
    "\n",
    "    # Print bin ranges with counts\n",
    "    print(f\"{'Bin Range (chars)':<30} | {'Count':>6}\")\n",
    "    print(\"-\" * 45)\n",
    "    for i in range(len(counts)):\n",
    "        start = int(bin_edges[i])\n",
    "        end = int(bin_edges[i+1])\n",
    "        count = counts[i]\n",
    "        print(f\"{start:>5} - {end:<22} | {count:>6}\")\n",
    "\n",
    "\n"
   ]
  },
  {
   "cell_type": "code",
   "execution_count": 7,
   "id": "59530d25",
   "metadata": {},
   "outputs": [
    {
     "name": "stdout",
     "output_type": "stream",
     "text": [
      "Bin Range (chars)              |  Count\n",
      "---------------------------------------------\n",
      "   21 - 1315                   |     10\n",
      " 1315 - 2609                   |    139\n",
      " 2609 - 3903                   |    214\n",
      " 3903 - 5197                   |    297\n",
      " 5197 - 6491                   |    922\n",
      " 6491 - 7785                   |    429\n",
      " 7785 - 9079                   |    230\n",
      " 9079 - 10373                  |    105\n",
      "10373 - 11667                  |     47\n",
      "11667 - 12961                  |     36\n",
      "12961 - 14255                  |     21\n",
      "14255 - 15549                  |      8\n",
      "15549 - 16843                  |      5\n",
      "16843 - 18137                  |      4\n",
      "18137 - 19431                  |      3\n",
      "19431 - 20725                  |      4\n",
      "20725 - 22019                  |      3\n",
      "22019 - 23313                  |      1\n",
      "23313 - 24607                  |      1\n",
      "24607 - 25901                  |      2\n",
      "25901 - 27195                  |      0\n",
      "27195 - 28489                  |      0\n",
      "28489 - 29783                  |      0\n",
      "29783 - 31077                  |      1\n",
      "31077 - 32371                  |      0\n",
      "32371 - 33665                  |      0\n",
      "33665 - 34959                  |      0\n",
      "34959 - 36253                  |      1\n",
      "36253 - 37547                  |      0\n",
      "37547 - 38842                  |      1\n"
     ]
    }
   ],
   "source": [
    "count_resumes_per_bin(\"json_outputs_all_data/parsed_resumes.json\", num_bins=30)"
   ]
  },
  {
   "cell_type": "code",
   "execution_count": 8,
   "id": "31fe13c1",
   "metadata": {},
   "outputs": [
    {
     "name": "stdout",
     "output_type": "stream",
     "text": [
      "Total resumes: 2484\n",
      "Resumes with length between 3000 and 8000: 1841\n",
      "Percentage: 74.11%\n"
     ]
    }
   ],
   "source": [
    "import json\n",
    "\n",
    "def count_normal_length_resumes(json_path, min_len=3000, max_len=8000):\n",
    "    count = 0\n",
    "    total = 0\n",
    "\n",
    "    with open(json_path, 'r', encoding='utf-8') as f:\n",
    "        for line in f:\n",
    "            try:\n",
    "                record = json.loads(line.strip())\n",
    "                resume_str = record.get(\"Resume_str\", \"\")\n",
    "                length = len(resume_str)\n",
    "                total += 1\n",
    "                if min_len <= length <= max_len:\n",
    "                    count += 1\n",
    "            except json.JSONDecodeError:\n",
    "                continue\n",
    "\n",
    "    print(f\"Total resumes: {total}\")\n",
    "    print(f\"Resumes with length between {min_len} and {max_len}: {count}\")\n",
    "    print(f\"Percentage: {count / total * 100:.2f}%\")\n",
    "\n",
    "# Example usage\n",
    "count_normal_length_resumes(\"json_outputs_all_data/parsed_resumes.json\")\n"
   ]
  }
 ],
 "metadata": {
  "kernelspec": {
   "display_name": ".venv (3.12.10)",
   "language": "python",
   "name": "python3"
  },
  "language_info": {
   "codemirror_mode": {
    "name": "ipython",
    "version": 3
   },
   "file_extension": ".py",
   "mimetype": "text/x-python",
   "name": "python",
   "nbconvert_exporter": "python",
   "pygments_lexer": "ipython3",
   "version": "3.12.10"
  }
 },
 "nbformat": 4,
 "nbformat_minor": 5
}
