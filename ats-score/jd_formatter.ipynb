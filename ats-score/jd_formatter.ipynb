{
 "cells": [
  {
   "cell_type": "code",
   "execution_count": 1,
   "id": "49560e75",
   "metadata": {},
   "outputs": [],
   "source": [
    "def jd_json_to_llm_prompt_string(jd: dict) -> str:\n",
    "    # Extract basic fields with defaults\n",
    "    title = jd.get(\"title\", \"\")\n",
    "    description = jd.get(\"description\", \"\").strip()\n",
    "    location = jd.get(\"location\", \"\")\n",
    "    work_type = jd.get(\"formatted_work_type\", \"\")\n",
    "    skills_desc = jd.get(\"skills_desc\", \"\")\n",
    "    experience_level = jd.get(\"formatted_experience_level\", \"\")\n",
    "    \n",
    "    # Build human-readable prompt string for LLM\n",
    "    prompt_parts = [\n",
    "        f\"Job Title: {title}\",\n",
    "        f\"Location: {location}\",\n",
    "        f\"Employment Type: {work_type}\",\n",
    "        f\"Listed Skills: {skills_desc}\",\n",
    "        f\"Description:\\n{description}\",\n",
    "        f\"Experience Level (if available): {experience_level}\",\n",
    "    ]\n",
    "    \n",
    "    return \"\\n\\n\".join(prompt_parts)\n"
   ]
  },
  {
   "cell_type": "code",
   "execution_count": 3,
   "id": "a7b55535",
   "metadata": {},
   "outputs": [
    {
     "name": "stdout",
     "output_type": "stream",
     "text": [
      "Job Title: Social Media Marketing Specialist\n",
      "\n",
      "Location: United States\n",
      "\n",
      "Employment Type: full-time\n",
      "\n",
      "Listed Skills: Marketing, Sales\n",
      "\n",
      "Description:\n",
      "Dental Revenue is searching for a talented and energetic Social Media Specialist to manage and administer the social media accounts of our clients and assist our internal marketing department.An ideal candidate will have a strong understanding of social media marketing be extremely organized, and have excellent energy and communication skills. As a Social Media Specialist, we expect you to be updated with the latest technologies and social media trends. While this is primarily an in-office position, there will be extensive interaction with clients both via web meetings and in their dental offices.\n",
      "Responsibilities includeManage client social media accounts by developing, overseeing, and implementing strategiesCreate, manage, and maintain social media accounts for clients, posting to platforms, organic and paid, including Facebook, Instagram, TikTok, YouTube, etc.Ensuring all channels align on social media objectives as they relate to the client.Monitor social media content calendar for clients and optimize efforts to ensure they achieve reach, engagement, and conversion goals.Assist in the review of content and strategy-driven metrics, audience insights, and goalsCreate original text and video content, coordinate the development of graphics, online tools, websites, etc.,Work with clients and internal teams to define success metricsMaintain close and positive relationships with clientsWork with clients and internal teams to define and optimize success metricsSchedule, monitor, and optimize social media ad performance based on the defined metrics of successOffer frequent analysis of results across platforms and report on campaign results\n",
      "Job RequirementsBachelor’s Degree in communications, marketing, or related fieldAt least 3-5 years of social media account experience or a proven track record of successful social media campaignsDetail-oriented with a go-getter mindset, strong energy, and a can-do personalityStrong written and verbal communicationWillingness to learn and function within a team environmentProficient with Microsoft Office and Adobe Creative SuiteExperience with social media content development across multiple channelsExperience with ad campaign planning, set-up, management, analysis, and reportingExperience working with clients to create creative ways to grow their brand\n",
      "\n",
      "Experience Level (if available): None\n"
     ]
    }
   ],
   "source": [
    "import json\n",
    "\n",
    "jd_record = json.loads(r\"\"\"\n",
    "{\"job_id\":3899527256,\"title\":\"Social Media Marketing Specialist\",\"industry\":\"Advertising Services\",\"company_name\":\"Dental Revenue\",\"location\":\"United States\",\"skills_desc\":\"Marketing, Sales\",\"formatted_experience_level\":null,\"formatted_work_type\":\"full-time\",\"description\":\"Dental Revenue is searching for a talented and energetic Social Media Specialist to manage and administer the social media accounts of our clients and assist our internal marketing department.An ideal candidate will have a strong understanding of social media marketing be extremely organized, and have excellent energy and communication skills. As a Social Media Specialist, we expect you to be updated with the latest technologies and social media trends. While this is primarily an in-office position, there will be extensive interaction with clients both via web meetings and in their dental offices.\\nResponsibilities includeManage client social media accounts by developing, overseeing, and implementing strategiesCreate, manage, and maintain social media accounts for clients, posting to platforms, organic and paid, including Facebook, Instagram, TikTok, YouTube, etc.Ensuring all channels align on social media objectives as they relate to the client.Monitor social media content calendar for clients and optimize efforts to ensure they achieve reach, engagement, and conversion goals.Assist in the review of content and strategy-driven metrics, audience insights, and goalsCreate original text and video content, coordinate the development of graphics, online tools, websites, etc.,Work with clients and internal teams to define success metricsMaintain close and positive relationships with clientsWork with clients and internal teams to define and optimize success metricsSchedule, monitor, and optimize social media ad performance based on the defined metrics of successOffer frequent analysis of results across platforms and report on campaign results\\nJob RequirementsBachelor’s Degree in communications, marketing, or related fieldAt least 3-5 years of social media account experience or a proven track record of successful social media campaignsDetail-oriented with a go-getter mindset, strong energy, and a can-do personalityStrong written and verbal communicationWillingness to learn and function within a team environmentProficient with Microsoft Office and Adobe Creative SuiteExperience with social media content development across multiple channelsExperience with ad campaign planning, set-up, management, analysis, and reportingExperience working with clients to create creative ways to grow their brand\\n\"}\n",
    "\"\"\")\n",
    "\n",
    "prompt_str = jd_json_to_llm_prompt_string(jd_record)\n",
    "print(prompt_str)\n"
   ]
  }
 ],
 "metadata": {
  "kernelspec": {
   "display_name": ".venv (3.12.10)",
   "language": "python",
   "name": "python3"
  },
  "language_info": {
   "codemirror_mode": {
    "name": "ipython",
    "version": 3
   },
   "file_extension": ".py",
   "mimetype": "text/x-python",
   "name": "python",
   "nbconvert_exporter": "python",
   "pygments_lexer": "ipython3",
   "version": "3.12.10"
  }
 },
 "nbformat": 4,
 "nbformat_minor": 5
}
