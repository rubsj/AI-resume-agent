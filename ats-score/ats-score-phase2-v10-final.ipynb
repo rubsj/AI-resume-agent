{
 "cells": [
  {
   "cell_type": "markdown",
   "id": "f630d895",
   "metadata": {},
   "source": [
    "# Global setup and package installation used in most phases"
   ]
  },
  {
   "cell_type": "markdown",
   "id": "969fcea6",
   "metadata": {},
   "source": [
    "## Colab + GPU Detection Utilities"
   ]
  },
  {
   "cell_type": "code",
   "execution_count": null,
   "id": "e7cf79fc",
   "metadata": {},
   "outputs": [],
   "source": [
    "import subprocess\n",
    "\n",
    "def is_running_in_colab():\n",
    "    try:\n",
    "        import google.colab\n",
    "        return True\n",
    "    except ImportError:\n",
    "        return False\n",
    "\n",
    "def get_available_gpu_memory_gb():\n",
    "    try:\n",
    "        output = subprocess.check_output(\n",
    "            [\"nvidia-smi\", \"--query-gpu=memory.free\", \"--format=csv,nounits,noheader\"],\n",
    "            encoding=\"utf-8\"\n",
    "        )\n",
    "        free_mem_mb = int(output.strip().split(\"\\n\")[0])\n",
    "        return free_mem_mb / 1024\n",
    "    except Exception:\n",
    "        return 0.0\n"
   ]
  },
  {
   "cell_type": "markdown",
   "id": "66be54d4",
   "metadata": {},
   "source": [
    "## install dependencies"
   ]
  },
  {
   "cell_type": "code",
   "execution_count": null,
   "id": "942fba10",
   "metadata": {},
   "outputs": [],
   "source": [
    "if is_running_in_colab():\n",
    "    # Install the required packages\n",
    "    !pip install kagglehub pandas\n",
    "    !pip install -q transformers accelerate bitsandbytes sentencepiece pydantic huggingface_hub xformers\n",
    "    !pip install regex json5\n",
    "else:\n",
    "    %pip install kagglehub pandas\n",
    "    %pip install -q transformers accelerate sentencepiece pydantic huggingface_hub xformers\n",
    "    #%pip install torch==2.2.2 torchvision==0.17.2 torchaudio==2.2.2 --index-url https://download.pytorch.org/whl/cu121\n",
    "    #%pip install torch torchvision torchaudio --index-url https://download.pytorch.org/whl/cu121\n",
    "    %pip install --pre torch torchvision torchaudio --index-url https://download.pytorch.org/whl/nightly/cu128\n",
    "    %pip install -U bitsandbytes\n",
    "    %pip install regex json5\n"
   ]
  },
  {
   "cell_type": "markdown",
   "id": "ef4a9f61",
   "metadata": {},
   "source": [
    "## Login to huggingface"
   ]
  },
  {
   "cell_type": "code",
   "execution_count": 2,
   "id": "1235aef5",
   "metadata": {},
   "outputs": [],
   "source": [
    "from huggingface_hub import login\n",
    "import os\n",
    "\n",
    "# Set your token here securely or prompt for it in Colab\n",
    "# Recommended: store in Colab secrets or environment variable\n",
    "HF_TOKEN = os.getenv(\"HUGGINGFACE_TOKEN\")\n",
    "\n",
    "\n",
    "if not HF_TOKEN:\n",
    "    if is_running_in_colab():\n",
    "        # If running in Colab, use the Colab secrets\n",
    "        try:\n",
    "            from google.colab import userdata\n",
    "            HF_TOKEN = userdata.get('HF_TOKEN')\n",
    "            if not HF_TOKEN:\n",
    "                raise ValueError(\"⚠️ Hugging Face token not found in Colab secrets.\")\n",
    "            print(\"🔑 Hugging Face token found in Colab secrets.\")\n",
    "        except ImportError:\n",
    "            print(\"⚠️ Unable to authenticate in Colab. Please set your Hugging Face token manually.\")\n",
    "    else:\n",
    "        # Prompt for token if not set in environment\n",
    "        print(\"🔑 Please enter your Hugging Face token:\")\n",
    "        # For Colab or local prompt input\n",
    "        HF_TOKEN = input(\"🔑 Enter your Hugging Face token: \").strip()\n",
    "\n",
    "login(token=HF_TOKEN)\n"
   ]
  },
  {
   "cell_type": "markdown",
   "id": "b423735e",
   "metadata": {},
   "source": [
    "## Setup Kaggle Credentials"
   ]
  },
  {
   "cell_type": "code",
   "execution_count": 3,
   "id": "409818e0",
   "metadata": {},
   "outputs": [
    {
     "name": "stdout",
     "output_type": "stream",
     "text": [
      "✅ Kaggle credentials already exist at C:\\Users\\rubyj/.kaggle/kaggle.json\n"
     ]
    }
   ],
   "source": [
    "import shutil\n",
    "\n",
    "def setup_kaggle_credentials():\n",
    "    kaggle_path = os.path.expanduser('~/.kaggle/kaggle.json')\n",
    "    if not os.path.exists(kaggle_path):\n",
    "        from google.colab import files\n",
    "        print(\"📂 Upload kaggle.json file...\")\n",
    "        uploaded = files.upload()\n",
    "        os.makedirs(os.path.dirname(kaggle_path), exist_ok=True)\n",
    "        for filename in uploaded.keys():\n",
    "            shutil.move(filename, kaggle_path)\n",
    "        os.chmod(kaggle_path, 0o600)\n",
    "        print(f\"✅ Kaggle credentials setup at {kaggle_path}\")\n",
    "    else:\n",
    "        print(f\"✅ Kaggle credentials already exist at {kaggle_path}\")\n",
    "\n",
    "setup_kaggle_credentials()"
   ]
  },
  {
   "cell_type": "markdown",
   "id": "3d384b2f",
   "metadata": {},
   "source": [
    "## Mount Google Drive (Colab)"
   ]
  },
  {
   "cell_type": "code",
   "execution_count": null,
   "id": "1517ea98",
   "metadata": {},
   "outputs": [],
   "source": [
    "if is_running_in_colab():\n",
    "   from google.colab import drive\n",
    "   drive.mount('/content/drive')"
   ]
  },
  {
   "cell_type": "markdown",
   "id": "d9964af3",
   "metadata": {},
   "source": [
    "##  Load Nous-Hermes-mistral-Instruct with Fallback to Quantized"
   ]
  },
  {
   "cell_type": "code",
   "execution_count": 4,
   "id": "3882e7e7",
   "metadata": {},
   "outputs": [],
   "source": [
    "from transformers import AutoTokenizer, AutoModelForCausalLM, BitsAndBytesConfig, pipeline\n",
    "import torch\n",
    "\n",
    "def load_model_pipeline(model_name: str, hf_token: str):\n",
    "    has_cuda = torch.cuda.is_available()\n",
    "    free_mem = torch.cuda.get_device_properties(0).total_memory / (1024 ** 3) if has_cuda else 0\n",
    "    print(f\"💻 CUDA: {has_cuda} | GPU Memory: {free_mem:.2f} GB\")\n",
    "\n",
    "    device_map = {\"\": 0} if has_cuda else \"cpu\"\n",
    "    use_4bit = has_cuda and free_mem < 24\n",
    "\n",
    "    # Set quantization config\n",
    "    quant_config = BitsAndBytesConfig(\n",
    "        load_in_4bit=True if use_4bit else False,\n",
    "        bnb_4bit_use_double_quant=True,\n",
    "        bnb_4bit_compute_dtype=torch.float16,\n",
    "        bnb_4bit_quant_type=\"nf4\"\n",
    "    ) if use_4bit else None\n",
    "\n",
    "    # Load tokenizer\n",
    "    tokenizer = AutoTokenizer.from_pretrained(model_name, token=hf_token, trust_remote_code=True)\n",
    "    tokenizer.pad_token = tokenizer.eos_token  # ✅ Fix warning about pad_token\n",
    "\n",
    "    # Load model\n",
    "    model = AutoModelForCausalLM.from_pretrained(\n",
    "        model_name,\n",
    "        device_map=device_map,\n",
    "        quantization_config=quant_config,\n",
    "        torch_dtype=torch.float16 if not quant_config else None,\n",
    "        trust_remote_code=True,\n",
    "        token=hf_token\n",
    "    )\n",
    "\n",
    "    print(f\"✅ Model loaded on {next(model.parameters()).device}\")\n",
    "    return pipeline(\"text-generation\", model=model, tokenizer=tokenizer, batch_size=1)\n"
   ]
  },
  {
   "cell_type": "code",
   "execution_count": 5,
   "id": "d505348b",
   "metadata": {},
   "outputs": [
    {
     "name": "stdout",
     "output_type": "stream",
     "text": [
      "💻 CUDA: True | GPU Memory: 15.92 GB\n"
     ]
    },
    {
     "data": {
      "application/vnd.jupyter.widget-view+json": {
       "model_id": "f25ab9128d5644de82ca22be29024cf3",
       "version_major": 2,
       "version_minor": 0
      },
      "text/plain": [
       "Loading checkpoint shards:   0%|          | 0/3 [00:00<?, ?it/s]"
      ]
     },
     "metadata": {},
     "output_type": "display_data"
    },
    {
     "name": "stderr",
     "output_type": "stream",
     "text": [
      "Device set to use cuda:0\n"
     ]
    },
    {
     "name": "stdout",
     "output_type": "stream",
     "text": [
      "✅ Model loaded on cuda:0\n"
     ]
    }
   ],
   "source": [
    "llm_pipeline = load_model_pipeline(\n",
    "    model_name=\"NousResearch/Nous-Hermes-2-Mistral-7B-DPO\",\n",
    "    hf_token=HF_TOKEN\n",
    ")\n"
   ]
  },
  {
   "cell_type": "markdown",
   "id": "739b4783",
   "metadata": {},
   "source": [
    "# Global utilities"
   ]
  },
  {
   "cell_type": "markdown",
   "id": "10779c22",
   "metadata": {},
   "source": [
    "### Utility to merge normalized json files"
   ]
  },
  {
   "cell_type": "code",
   "execution_count": 7,
   "id": "9a472fbe",
   "metadata": {},
   "outputs": [],
   "source": [
    "import json\n",
    "import shutil\n",
    "from pathlib import Path\n",
    "\n",
    "def merge_json_files(\n",
    "    source_dir: Path,\n",
    "    output_file: Path,\n",
    "    pattern: str,\n",
    "    merged_dir: Path\n",
    "):\n",
    "    source_dir.mkdir(parents=True, exist_ok=True)\n",
    "    merged_dir.mkdir(parents=True, exist_ok=True)\n",
    "\n",
    "    merged_data = []\n",
    "\n",
    "    # Load existing output if it exists\n",
    "    if output_file.exists():\n",
    "        with open(output_file, \"r\", encoding=\"utf-8\") as f:\n",
    "            try:\n",
    "                merged_data = json.load(f)\n",
    "            except json.JSONDecodeError:\n",
    "                print(f\"⚠️ Could not decode {output_file}, starting from scratch.\")\n",
    "\n",
    "    # Identify matching files\n",
    "    files_to_merge = sorted(source_dir.glob(pattern))\n",
    "\n",
    "    for file_path in files_to_merge:\n",
    "        with open(file_path, \"r\", encoding=\"utf-8\") as f:\n",
    "            try:\n",
    "                data = json.load(f)\n",
    "                if isinstance(data, list):\n",
    "                    merged_data.extend(data)\n",
    "                else:\n",
    "                    print(f\"⚠️ Skipping {file_path.name}: not a list.\")\n",
    "            except Exception as e:\n",
    "                print(f\"⚠️ Failed to parse {file_path.name}: {e}\")\n",
    "                continue\n",
    "\n",
    "        # Move to merged folder\n",
    "        shutil.move(str(file_path), merged_dir / file_path.name)\n",
    "        print(f\"✅ Merged and moved: {file_path.name}\")\n",
    "\n",
    "    # Write combined output\n",
    "    if merged_data:\n",
    "        with open(output_file, \"w\", encoding=\"utf-8\") as f:\n",
    "            json.dump(merged_data, f, indent=2)\n",
    "        print(f\"💾 Saved to: {output_file}\")\n",
    "    else:\n",
    "        print(\"📭 No valid data to merge.\")\n",
    "\n",
    "\n"
   ]
  },
  {
   "cell_type": "markdown",
   "id": "2a17bfc2",
   "metadata": {},
   "source": [
    "### Configurations  "
   ]
  },
  {
   "cell_type": "code",
   "execution_count": 8,
   "id": "14b50e6d",
   "metadata": {},
   "outputs": [],
   "source": [
    "# ==============================\n",
    "# 🛠 CONFIGURATION\n",
    "# ==============================\n",
    "\n",
    "class Config:\n",
    "    DATASET_DOWNLOAD_DIR = \"datasets\"\n",
    "    JSON_OUTPUT_DIR = \"json_outputs_all_data\"\n",
    "    JSON_OUTPUT_NORMALIZED_DIR = \"json_outputs_all_data/normalized\"\n",
    "    AUTO_CLEANUP = True\n"
   ]
  },
  {
   "cell_type": "markdown",
   "id": "a3f7f202",
   "metadata": {},
   "source": [
    "## Utility to save json to a folder"
   ]
  },
  {
   "cell_type": "code",
   "execution_count": 9,
   "id": "85be866c",
   "metadata": {},
   "outputs": [],
   "source": [
    "import json\n",
    "import os\n",
    "# 📦 Save JSON Output with Safety\n",
    "def save_json_output(data, output_path: str, indent: int = 4, overwrite: bool = True):\n",
    "    output_dir = os.path.dirname(output_path)\n",
    "    os.makedirs(output_dir, exist_ok=True)\n",
    "\n",
    "    if os.path.exists(output_path):\n",
    "        if overwrite:\n",
    "            os.remove(output_path)\n",
    "        else:\n",
    "            raise FileExistsError(f\"File {output_path} already exists and overwrite=False.\")\n",
    "\n",
    "    with open(output_path, \"w\", encoding=\"utf-8\") as f:\n",
    "        json.dump(data, f, indent=indent, ensure_ascii=False)\n",
    "\n",
    "    print(f\"✅ Saved output to {output_path}\")\n"
   ]
  },
  {
   "cell_type": "markdown",
   "id": "461b99a9",
   "metadata": {},
   "source": [
    "## Utility to load file"
   ]
  },
  {
   "cell_type": "markdown",
   "id": "c7f349cd",
   "metadata": {},
   "source": [
    "### load_ndjson_file() (for resume/jd input)"
   ]
  },
  {
   "cell_type": "code",
   "execution_count": 10,
   "id": "9445d7d3",
   "metadata": {},
   "outputs": [],
   "source": [
    "from typing import List\n",
    "\n",
    "\n",
    "def load_ndjson_file(file_path: Path) -> List[dict]:\n",
    "    if not os.path.isfile(file_path):\n",
    "        raise FileNotFoundError(f\"File not found: {file_path}\")\n",
    "    with open(file_path, 'r', encoding='utf-8') as file:\n",
    "        return [json.loads(line) for line in file if line.strip()]\n"
   ]
  },
  {
   "cell_type": "markdown",
   "id": "9f1a0736",
   "metadata": {},
   "source": [
    "### load_json_file() (for checkpoint & metadata)"
   ]
  },
  {
   "cell_type": "code",
   "execution_count": 11,
   "id": "8b796868",
   "metadata": {},
   "outputs": [],
   "source": [
    "def load_json_file(file_path: Path) -> dict:\n",
    "    if not os.path.isfile(file_path):\n",
    "        raise FileNotFoundError(f\"File not found: {file_path}\")\n",
    "    with open(file_path, 'r', encoding='utf-8') as file:\n",
    "        return json.load(file)\n"
   ]
  },
  {
   "cell_type": "markdown",
   "id": "f7a1b769",
   "metadata": {},
   "source": [
    "# Phase 2 -\tParse resume/JD into JSON structured scheme"
   ]
  },
  {
   "cell_type": "markdown",
   "id": "4f7917da",
   "metadata": {},
   "source": [
    "## Define Pydantic Schemas"
   ]
  },
  {
   "cell_type": "code",
   "execution_count": 12,
   "id": "42d92205",
   "metadata": {},
   "outputs": [],
   "source": [
    "from typing import Optional\n",
    "from pydantic import BaseModel\n",
    "\n",
    "class Education(BaseModel):\n",
    "    degree: str\n",
    "    field: str\n",
    "    institution: str\n",
    "    year: str\n",
    "    gpa: Optional[str] = None\n",
    "\n",
    "class Experience(BaseModel):\n",
    "    job_title: str\n",
    "    company: str\n",
    "    start_date: Optional[str] = None\n",
    "    end_date: Optional[str] = None\n",
    "    duration_in_months: Optional[int] = None\n",
    "    description: str\n",
    "\n",
    "class Basics(BaseModel):\n",
    "    name: str\n",
    "    email: str\n",
    "    phone: str\n",
    "    location: str\n",
    "    current_title: str\n",
    "    linkedin_url: Optional[str] = None"
   ]
  },
  {
   "cell_type": "code",
   "execution_count": 13,
   "id": "10276bb0",
   "metadata": {},
   "outputs": [],
   "source": [
    "from typing import List, Optional\n",
    "from pydantic import BaseModel\n",
    "import re\n",
    "\n",
    "\n",
    "class ResumeSchema(BaseModel):\n",
    "    resume_id: Optional[str] = None\n",
    "    basics: Basics\n",
    "    education: List[Education]\n",
    "    experience: List[Experience]\n",
    "    skills: List[str]\n",
    "    certifications: List[str]\n",
    "    projects: List[str]\n",
    "    languages: Optional[List[str]] = []\n",
    "    total_experience_years: Optional[float] = 0.0  # ✅ New field added\n",
    "\n",
    "    @classmethod\n",
    "    def normalize(cls, resume_dict: dict) -> dict:\n",
    "        resume_dict = dict(resume_dict)\n",
    "\n",
    "        # Basics\n",
    "        basics = resume_dict.get(\"basics\", {})\n",
    "        resume_dict[\"basics\"] = {\n",
    "            \"name\": basics.get(\"name\", \"\"),\n",
    "            \"email\": basics.get(\"email\", \"\"),\n",
    "            \"phone\": basics.get(\"phone\", \"\"),\n",
    "            \"location\": basics.get(\"location\", \"\"),\n",
    "            \"current_title\": basics.get(\"current_title\", basics.get(\"title\", \"\")),\n",
    "            \"linkedin_url\": basics.get(\"linkedin_url\", \"\")\n",
    "        }\n",
    "\n",
    "        # Normalize sections\n",
    "        for key in [\"skills\", \"certifications\", \"projects\", \"languages\"]:\n",
    "            if not isinstance(resume_dict.get(key), list):\n",
    "                resume_dict[key] = []\n",
    "\n",
    "        # Normalize Experience\n",
    "        normalized_exp = []\n",
    "        for item in resume_dict.get(\"experience\", []):\n",
    "            if not isinstance(item, dict):\n",
    "                continue\n",
    "            normalized_exp.append({\n",
    "                \"job_title\": item.get(\"job_title\", item.get(\"title\", \"\")),\n",
    "                \"company\": item.get(\"company\", \"\"),\n",
    "                \"start_date\": item.get(\"start_date\", \"\"),\n",
    "                \"end_date\": item.get(\"end_date\", \"\"),\n",
    "                \"duration_in_months\": item.get(\"duration_in_months\", None),\n",
    "                \"description\": item.get(\"description\", \"\")\n",
    "            })\n",
    "        resume_dict[\"experience\"] = normalized_exp\n",
    "\n",
    "        # Normalize Education\n",
    "        normalized_edu = []\n",
    "        for item in resume_dict.get(\"education\", []):\n",
    "            if not isinstance(item, dict):\n",
    "                continue\n",
    "            degree = item.get(\"degree\", \"\")\n",
    "            field = item.get(\"field\", \"\")\n",
    "            if not field:\n",
    "                match = re.search(r\"in\\\\s+(.+)\", degree, flags=re.IGNORECASE)\n",
    "                field = match.group(1).strip() if match else \"\"\n",
    "            year = str(item.get(\"year\", \"\")) if item.get(\"year\") else \"\"\n",
    "            gpa = item.get(\"gpa\", None)\n",
    "            normalized_edu.append({\n",
    "                \"degree\": degree,\n",
    "                \"field\": field,\n",
    "                \"institution\": item.get(\"institution\", \"\"),\n",
    "                \"year\": year,\n",
    "                \"gpa\": gpa\n",
    "            })\n",
    "        resume_dict[\"education\"] = normalized_edu\n",
    "\n",
    "        # Total Experience fallback\n",
    "        if \"total_experience_years\" not in resume_dict:\n",
    "            resume_dict[\"total_experience_years\"] = 0.0\n",
    "\n",
    "        return resume_dict\n"
   ]
  },
  {
   "cell_type": "code",
   "execution_count": 14,
   "id": "7d198213",
   "metadata": {},
   "outputs": [],
   "source": [
    "class JobDescriptionSchema(BaseModel):\n",
    "    jd_id: str\n",
    "    title: str\n",
    "    summary: str\n",
    "    required_experience_years: float\n",
    "    preferred_degrees: List[str]\n",
    "    required_skills: List[str]\n",
    "    optional_skills: List[str]\n",
    "    certifications: List[str]\n",
    "    soft_skills: List[str]\n",
    "    job_location: str\n",
    "    remote_option: Optional[bool] = False\n",
    "    employment_type: Optional[str] = None\n",
    "    inferred_domain: str = \"unknown\"\n",
    "\n",
    "    @classmethod\n",
    "    def normalize(cls, jd_dict: dict) -> dict:\n",
    "        jd_dict = dict(jd_dict)\n",
    "\n",
    "        aliases = {\n",
    "            \"years_required\": \"required_experience_years\",\n",
    "            \"requirements\": \"required_skills\",\n",
    "            \"degree_preferences\": \"preferred_degrees\",\n",
    "            \"certs\": \"certifications\",\n",
    "            \"skills_soft\": \"soft_skills\",\n",
    "            \"job_summary\": \"summary\"\n",
    "        }\n",
    "        for old, new in aliases.items():\n",
    "            if old in jd_dict and new not in jd_dict:\n",
    "                jd_dict[new] = jd_dict.pop(old)\n",
    "\n",
    "        # Required Experience Extraction\n",
    "        def extract_experience_years(text: str) -> float:\n",
    "            if not isinstance(text, str):\n",
    "                return 0.0\n",
    "            match = re.search(r'(\\\\d+(\\\\.\\\\d+)?)\\\\s*\\\\+?\\\\s*(years?|yrs?)', text.lower())\n",
    "            return float(match.group(1)) if match else 0.0\n",
    "\n",
    "        try:\n",
    "            val = jd_dict.get(\"required_experience_years\")\n",
    "            if val is None:\n",
    "                jd_dict[\"required_experience_years\"] = extract_experience_years(jd_dict.get(\"summary\", \"\"))\n",
    "            elif isinstance(val, str):\n",
    "                jd_dict[\"required_experience_years\"] = float(val.split()[0])\n",
    "            else:\n",
    "                jd_dict[\"required_experience_years\"] = float(val)\n",
    "        except Exception:\n",
    "            jd_dict[\"required_experience_years\"] = 0.0\n",
    "\n",
    "        # Normalize fields\n",
    "        for field in [\"preferred_degrees\", \"required_skills\", \"optional_skills\", \"certifications\", \"soft_skills\"]:\n",
    "            if not isinstance(jd_dict.get(field), list):\n",
    "                jd_dict[field] = []\n",
    "\n",
    "        for field in [\"title\", \"summary\", \"job_location\", \"employment_type\"]:\n",
    "            jd_dict[field] = jd_dict.get(field, \"\") or \"\"\n",
    "\n",
    "        # Remote Option\n",
    "        remote_flag = jd_dict.get(\"remote_option\", None)\n",
    "        if remote_flag is None:\n",
    "            remote_flag = \"remote\" in jd_dict.get(\"summary\", \"\").lower()\n",
    "        jd_dict[\"remote_option\"] = bool(remote_flag)\n",
    "\n",
    "        return jd_dict\n"
   ]
  },
  {
   "cell_type": "code",
   "execution_count": 15,
   "id": "4da01bf7",
   "metadata": {},
   "outputs": [],
   "source": [
    "def generate_example_structure(model_class) -> dict:\n",
    "    \"\"\"Generate a JSON structure from a Pydantic model using placeholder values, handling Optional fields better.\"\"\"\n",
    "    from typing import get_origin, get_args, Union\n",
    "    from pydantic import BaseModel\n",
    "\n",
    "    def default_for_type(field_type):\n",
    "        origin = get_origin(field_type)\n",
    "        args = get_args(field_type)\n",
    "\n",
    "        if origin is list:\n",
    "            return []\n",
    "        elif origin is Union and type(None) in args:\n",
    "            # Optional[...] detected\n",
    "            non_none_types = [arg for arg in args if arg is not type(None)]\n",
    "            return default_for_type(non_none_types[0]) if non_none_types else \"\"\n",
    "        elif field_type is str:\n",
    "            return \"\"\n",
    "        elif field_type in [float, int]:\n",
    "            return 0.0\n",
    "        elif isinstance(field_type, type) and issubclass(field_type, BaseModel):\n",
    "            return generate_example_structure(field_type)\n",
    "        else:\n",
    "            return \"\"\n",
    "\n",
    "    structure = {}\n",
    "    for field_name, field in model_class.model_fields.items():\n",
    "        try:\n",
    "            structure[field_name] = default_for_type(field.annotation)\n",
    "        except Exception:\n",
    "            structure[field_name] = \"\"\n",
    "    return structure\n"
   ]
  },
  {
   "cell_type": "markdown",
   "id": "274f774b",
   "metadata": {},
   "source": [
    "##  Prompt Templates"
   ]
  },
  {
   "cell_type": "code",
   "execution_count": 16,
   "id": "944c074c",
   "metadata": {},
   "outputs": [],
   "source": [
    "RESUME_PROMPT_TEMPLATE = \"\"\"\n",
    "You are a JSON resume parser and experience calculator.\n",
    "\n",
    "Given the following resume text, extract a structured JSON following this schema:\n",
    "\n",
    "{schema}\n",
    "\n",
    "Instructions:\n",
    "- Parse education, experience, skills, certifications, and other fields exactly as described.\n",
    "- In the \"experience\" list, if start_date and end_date are missing, try to infer them if mentioned anywhere.\n",
    "- Accept various date formats such as \"March 2007\", \"Mar 07\", \"03/2007\", \"Current\", \"Present\" etc.\n",
    "- Interpret \"Current\", \"Present\", \"Today\" as the current month and year.\n",
    "- Calculate \"total_experience_years\" as the cumulative duration of professional work experience from all roles.\n",
    "    - Overlapping durations should not be double-counted.\n",
    "    - If start and end dates are missing or ambiguous, skip them for total experience calculation.\n",
    "- If a field is missing in the resume, leave it empty (\"\") or an empty list [] depending on the field type.\n",
    "- Return ONLY a valid JSON object. No extra text, no explanations, no markdown formatting.\n",
    "- Your output MUST start with a {{.\n",
    "\n",
    "Resume Text:\n",
    "--------------------\n",
    "{text}\n",
    "--------------------\n",
    "\"\"\"\n"
   ]
  },
  {
   "cell_type": "code",
   "execution_count": 17,
   "id": "10ce3a60",
   "metadata": {},
   "outputs": [],
   "source": [
    "JD_PROMPT_TEMPLATE = \"\"\"\n",
    "You are a JSON job description parser and experience extractor.\n",
    "\n",
    "Given the following job description text, extract a structured JSON following this schema:\n",
    "\n",
    "{schema}\n",
    "\n",
    "Instructions:\n",
    "- Parse title, summary, skills, certifications, and other fields exactly as shown.\n",
    "- Pay special attention to \"required_experience_years\":\n",
    "    - If experience years are explicitly listed, extract that number.\n",
    "    - Accept formats like \"5+ years\", \"3-5 years\", \"8 years required\", etc.\n",
    "    - If multiple ranges are mentioned (e.g., \"3-5 years\"), use the lower value (3 years).\n",
    "    - If no years are mentioned explicitly, infer from job title level:\n",
    "        - \"Senior\", \"Lead\" → Assume 5+ years\n",
    "        - \"Mid-level\", \"Experienced\" → Assume 3 years\n",
    "        - \"Entry level\", \"Junior\" → Assume 0-1 years\n",
    "    - If still ambiguous, default to 0 years.\n",
    "- Handle remote/hybrid jobs:\n",
    "    - Set \"remote_option\" = true if remote keywords are present (remote, work from home, hybrid, WFH).\n",
    "- Infer the **inferred_domain** from the job description:\n",
    "    - Return a short domain noun (e.g., \"software\", \"marketing\", \"data science\", \"finance\", \"healthcare\").\n",
    "    - Use the title and summary to guide inference.\n",
    "    - If uncertain, use \"unknown\".\n",
    "- If a field is missing, leave it empty (\"\") or as an empty list [] depending on the field type.\n",
    "- Return ONLY a valid JSON object. No extra text, no explanations, no markdown formatting.\n",
    "- Your output MUST start with a {{.\n",
    "\n",
    "Job Description Text:\n",
    "--------------------\n",
    "{text}\n",
    "--------------------\n",
    "\"\"\"\n"
   ]
  },
  {
   "cell_type": "markdown",
   "id": "ebeb4f67",
   "metadata": {},
   "source": [
    "##  Inference + Validation Functions"
   ]
  },
  {
   "cell_type": "markdown",
   "id": "5d521772",
   "metadata": {},
   "source": [
    "### Generate Raw LLM Output"
   ]
  },
  {
   "cell_type": "code",
   "execution_count": 18,
   "id": "5d179a0b",
   "metadata": {},
   "outputs": [],
   "source": [
    "def generate_llm_output(prompt: str, max_new_tokens: int = 1024) -> str:\n",
    "    \"\"\"Run LLM and return the generated text.\"\"\"\n",
    "    try:\n",
    "        return llm_pipeline(prompt, max_new_tokens=max_new_tokens,  do_sample=False)[0][\"generated_text\"]\n",
    "    except Exception as e:\n",
    "        raise RuntimeError(f\"LLM generation failed: {e}\")\n"
   ]
  },
  {
   "cell_type": "markdown",
   "id": "94efd107",
   "metadata": {},
   "source": [
    "### Sanitize Output: Strip Prompt, Fix Cutoffs"
   ]
  },
  {
   "cell_type": "code",
   "execution_count": 19,
   "id": "efa85362",
   "metadata": {},
   "outputs": [],
   "source": [
    "def sanitize_llm_output(response: str, prompt: str) -> str:\n",
    "    raw = response.replace(prompt, \"\").strip()\n",
    "\n",
    "    # Truncate garbage after the last closing brace\n",
    "    raw = re.sub(r'}[^}]*$', '}', raw)\n",
    "\n",
    "    # Remove markdown bullets or --- headers at end\n",
    "    raw = re.sub(r'(---|•|–|-)\\s*$', '', raw, flags=re.MULTILINE)\n",
    "\n",
    "    return raw\n"
   ]
  },
  {
   "cell_type": "markdown",
   "id": "aa8d3f67",
   "metadata": {},
   "source": [
    "### Regex-based JSON Block Extractor"
   ]
  },
  {
   "cell_type": "code",
   "execution_count": 20,
   "id": "cb189464",
   "metadata": {},
   "outputs": [],
   "source": [
    "import regex\n",
    "import json5\n",
    "\n",
    "def extract_json_block(text: str) -> dict:\n",
    "    \"\"\"\n",
    "    Extracts the first valid JSON object from a text using the `regex` module and parses with `json5`.\n",
    "    This is more robust than standard `json` and can handle trailing commas, comments, etc.\n",
    "    \"\"\"\n",
    "    # Recursive regex pattern to find balanced curly braces (non-greedy)\n",
    "    pattern = r'(\\{(?:[^{}]|(?R))*\\})'\n",
    "\n",
    "    for match in regex.finditer(pattern, text, flags=regex.DOTALL):\n",
    "        json_candidate = match.group(1)\n",
    "        try:\n",
    "            return json5.loads(json_candidate)\n",
    "        except json5.JSONDecodeError:\n",
    "            continue\n",
    "\n",
    "    raise ValueError(\"❌ No valid JSON object found using regex and json5.\")\n"
   ]
  },
  {
   "cell_type": "markdown",
   "id": "b0de79d7",
   "metadata": {},
   "source": [
    "### Final Orchestrator: Fault-Tolerant Extraction"
   ]
  },
  {
   "cell_type": "code",
   "execution_count": 21,
   "id": "c8971393",
   "metadata": {},
   "outputs": [],
   "source": [
    "def truncate_text(text: str, max_chars=1500) -> str:\n",
    "    \"\"\"Trims long resumes/JDs to prevent LLM overload.\"\"\"\n",
    "    return text.strip()[:max_chars]"
   ]
  },
  {
   "cell_type": "code",
   "execution_count": 22,
   "id": "c69d7930",
   "metadata": {},
   "outputs": [],
   "source": [
    "import uuid\n",
    "from typing import Dict, Optional, Type\n",
    "\n",
    "def inject_ids(parsed: Dict, schema_model: Optional[Type]) -> Dict:\n",
    "    \"\"\"\n",
    "    Injects a UUID as `resume_id` or `jd_id` based on the schema model name.\n",
    "    \"\"\"\n",
    "    if not schema_model:\n",
    "        print(\"⚠️ No schema model provided for ID injection.\")\n",
    "        return parsed\n",
    "    schema_name = schema_model.__name__.lower()\n",
    "    if schema_name.startswith(\"resume\"):\n",
    "        parsed[\"resume_id\"] = str(uuid.uuid4())\n",
    "    elif schema_name.startswith(\"jobdescription\") and not parsed.get(\"jd_id\", \"\").strip():\n",
    "        parsed[\"jd_id\"] = str(uuid.uuid4())\n",
    "    return parsed\n"
   ]
  },
  {
   "cell_type": "code",
   "execution_count": 24,
   "id": "dc83f2c8",
   "metadata": {},
   "outputs": [],
   "source": [
    "from typing import Union\n",
    "\n",
    "def extract_structured_json(\n",
    "    text: str,\n",
    "    prompt_template: str,\n",
    "    schema_model: Union[None, type] = None,\n",
    "    max_new_tokens: int = 1024,\n",
    "    retries: int = 0,\n",
    "    validate: bool = True,\n",
    ") -> dict:\n",
    "    \"\"\"\n",
    "    Runs LLM to extract structured JSON and validates against schema.\n",
    "    Includes: prompt sanitization, retry, echo detection, brace parser fallback, schema validation.\n",
    "    \"\"\"\n",
    "    example_schema = generate_example_structure(schema_model)\n",
    "    schema_str = json.dumps(example_schema, indent=2)\n",
    "    prompt = prompt_template.format(text=truncate_text(text), schema=schema_str)\n",
    "    raw_output = \"\"\n",
    "    attempt = 0\n",
    "\n",
    "    while attempt <= retries:\n",
    "        try:\n",
    "            # Step 1: Get LLM output\n",
    "            response = generate_llm_output(prompt, max_new_tokens)\n",
    "            raw_output = sanitize_llm_output(response, prompt)\n",
    "\n",
    "            # Step 2: Detect schema echo or instruction echo\n",
    "            if \"$schema\" in raw_output or \"Ensure these rules\" in raw_output:\n",
    "                raise ValueError(\"LLM echoed schema or instruction block instead of generating JSON.\")\n",
    "\n",
    "            # Step 3: Try JSON load directly\n",
    "            json_start = raw_output.find(\"{\")\n",
    "            if json_start == -1:\n",
    "                raise ValueError(\"No opening '{' found in LLM output.\")\n",
    "\n",
    "            parsed = json.loads(raw_output[json_start:])\n",
    "            parsed = inject_ids(parsed, schema_model)\n",
    "            \n",
    "\n",
    "            # Step 4: Optional schema validation\n",
    "            if validate and schema_model:\n",
    "                if hasattr(schema_model, \"normalize\"):\n",
    "                    parsed = schema_model.normalize(parsed)\n",
    "                schema_model.model_validate(parsed)\n",
    "\n",
    "            return parsed\n",
    "\n",
    "        except Exception as e:\n",
    "            print(f\"⚠️ Attempt {attempt + 1} failed: {e}\")\n",
    "            print(\"🧪 Raw output was:\\n\", raw_output[:300])  # Preview first 300 chars\n",
    "            attempt += 1\n",
    "\n",
    "    # Step 5: Fallback using brace matching\n",
    "    try:\n",
    "        parsed = extract_json_block(raw_output)\n",
    "        parsed = inject_ids(parsed, schema_model)\n",
    "            \n",
    "        if validate and schema_model:\n",
    "            if hasattr(schema_model, \"normalize\"):\n",
    "                parsed = schema_model.normalize(parsed)\n",
    "            schema_model.model_validate(parsed)\n",
    "        return parsed\n",
    "    except Exception as e:\n",
    "        return {\n",
    "            \"raw_output\": raw_output.strip(),\n",
    "            \"error\": f\"Regex fallback failed: {e}\"\n",
    "        }"
   ]
  },
  {
   "cell_type": "code",
   "execution_count": 25,
   "id": "33f8e0bd",
   "metadata": {},
   "outputs": [],
   "source": [
    "from pydantic import ValidationError\n",
    "\n",
    "def pydantic_validate(model_class, data):\n",
    "    \"\"\"\n",
    "    Version-safe validator that supports both Pydantic v1 and v2.\n",
    "    \"\"\"\n",
    "    try:\n",
    "        # Pydantic v2\n",
    "        return model_class.model_validate(data)\n",
    "    except AttributeError:\n",
    "        # Fallback to Pydantic v1\n",
    "        return model_class.parse_obj(data)\n",
    "\n",
    "\n",
    "def validate_entry(entry, is_resume):\n",
    "    try:\n",
    "        model = ResumeSchema if is_resume else JobDescriptionSchema\n",
    "        if hasattr(model, \"normalize\"):\n",
    "            normalized = model.normalize(entry)\n",
    "        else:\n",
    "            normalized = entry\n",
    "        pydantic_validate(model, normalized)\n",
    "        return True, None\n",
    "    except ValidationError as ve:\n",
    "        return False, str(ve)\n"
   ]
  },
  {
   "cell_type": "markdown",
   "id": "143847db",
   "metadata": {},
   "source": [
    "##  Normalize in Batches with Validation"
   ]
  },
  {
   "cell_type": "code",
   "execution_count": 26,
   "id": "a7325133",
   "metadata": {},
   "outputs": [],
   "source": [
    "def save_metadata_summary(\n",
    "    output_dir: Path,\n",
    "    is_resume: bool,\n",
    "    input_file: str,\n",
    "    total_records: int,\n",
    "    total_valid: int,\n",
    "    total_invalid: int,\n",
    "    start_index: int,\n",
    "    end_index: int,\n",
    "    timestamp: str,\n",
    "    batch_id: str\n",
    "):\n",
    "    summary = {\n",
    "        \"batch_id\": batch_id,\n",
    "        \"timestamp\": timestamp,\n",
    "        \"input_file\": input_file,\n",
    "        \"input_type\": \"resume\" if is_resume else \"job_description\",\n",
    "        \"records_start_index\": start_index,\n",
    "        \"records_end_index\": end_index,\n",
    "        \"records_total\": total_records,\n",
    "        \"records_valid\": total_valid,\n",
    "        \"records_invalid\": total_invalid,\n",
    "        \"output_dir\": str(output_dir)\n",
    "    }\n",
    "    summary_file = output_dir / f\"meta_{'resumes' if is_resume else 'jds'}_{start_index}_{end_index}_{timestamp}_{batch_id}.json\"\n",
    "    save_json_output(summary, str(summary_file), overwrite=True)\n"
   ]
  },
  {
   "cell_type": "code",
   "execution_count": 27,
   "id": "72001714",
   "metadata": {},
   "outputs": [],
   "source": [
    "def render_jd_text(record: dict) -> str:\n",
    "    \"\"\"\n",
    "    Constructs a rich text string from all non-empty fields of a JD record.\n",
    "    \"\"\"\n",
    "    jd_parts = []\n",
    "    for k, v in record.items():\n",
    "        label = k.replace('_', ' ').title()\n",
    "\n",
    "        if v is None:\n",
    "            continue\n",
    "\n",
    "        if isinstance(v, list):\n",
    "            if v:\n",
    "                value_str = \", \".join(str(i) for i in v if i)\n",
    "                jd_parts.append(f\"{label}: {value_str}\")\n",
    "        elif isinstance(v, (str, int, float)):\n",
    "            value_str = str(v).strip()\n",
    "            if value_str:\n",
    "                jd_parts.append(f\"{label}: {value_str}\")\n",
    "\n",
    "    return \"\\n\".join(jd_parts)\n"
   ]
  },
  {
   "cell_type": "code",
   "execution_count": 29,
   "id": "ed1d8c2f",
   "metadata": {},
   "outputs": [],
   "source": [
    "import uuid\n",
    "from datetime import datetime\n",
    "from typing import List\n",
    "\n",
    "def normalize_batch(\n",
    "    records: List[dict],\n",
    "    start_idx: int,\n",
    "    end_idx: int,\n",
    "    is_resume: bool,\n",
    "    output_dir: Path,\n",
    "    prompt_template,\n",
    "    schema_model\n",
    "):\n",
    "    results, invalids = [], []\n",
    "\n",
    "    for record in records:\n",
    "        if is_resume:\n",
    "            text = record.get(\"Resume_str\", \"\")\n",
    "        else:\n",
    "            text = render_jd_text(record)\n",
    "\n",
    "        parsed = extract_structured_json(\n",
    "            text=text,\n",
    "            prompt_template=prompt_template,\n",
    "            schema_model=schema_model,\n",
    "            validate=False\n",
    "        )\n",
    "\n",
    "        if \"raw_output\" in parsed or \"error\" in parsed:\n",
    "            invalids.append({\n",
    "                \"input\": text,\n",
    "                \"output\": parsed,\n",
    "                \"error\": parsed.get(\"error\", \"Malformed or unstructured output\")\n",
    "            })\n",
    "        else:\n",
    "            results.append(parsed)\n",
    "\n",
    "    timestamp = datetime.now().strftime(\"%Y%m%d_%H%M\")\n",
    "    batch_id = uuid.uuid4().hex[:6]\n",
    "    prefix = \"resumes\" if is_resume else \"jds\"\n",
    "\n",
    "    if results:\n",
    "        save_json_output(\n",
    "            results,\n",
    "            output_path=output_dir / f\"{prefix}_valid_{start_idx}_{end_idx}_{timestamp}_{batch_id}.json\"\n",
    "        )\n",
    "    if invalids:\n",
    "        save_json_output(\n",
    "            invalids,\n",
    "            output_path=output_dir / f\"{prefix}_invalid_{start_idx}_{end_idx}_{timestamp}_{batch_id}.json\"\n",
    "        )\n",
    "\n",
    "    return results, invalids\n"
   ]
  },
  {
   "cell_type": "code",
   "execution_count": 31,
   "id": "ca36dd7e",
   "metadata": {},
   "outputs": [],
   "source": [
    "from tqdm import tqdm\n",
    "\n",
    "def normalize_file_in_batches(\n",
    "    input_filename: str,\n",
    "    output_dir: Path,\n",
    "    is_resume: bool = True,\n",
    "    input_dir: Path = Path(\"json_outputs\"),\n",
    "    save_every: int = 5,\n",
    "    limit: int = None\n",
    "):\n",
    "    input_path = input_dir / input_filename\n",
    "    data = load_ndjson_file(input_path)\n",
    "    \n",
    "\n",
    "    checkpoint_file = output_dir / f\"checkpoint_{'resumes' if is_resume else 'jds'}.json\"\n",
    "    start_index = 0\n",
    "    if checkpoint_file.exists():\n",
    "        checkpoint = load_json_file(checkpoint_file)\n",
    "        start_index = checkpoint.get(\"last_index\", 0)\n",
    "        print(f\"🔁 Resuming from index {start_index}\")\n",
    "\n",
    "    # Apply limit\n",
    "    data_to_process = data[start_index:]\n",
    "    if limit is not None:\n",
    "        data_to_process = data_to_process[:limit]\n",
    "\n",
    "    prompt_template = RESUME_PROMPT_TEMPLATE if is_resume else JD_PROMPT_TEMPLATE\n",
    "    schema_model = ResumeSchema if is_resume else JobDescriptionSchema\n",
    "\n",
    "    os.makedirs(output_dir, exist_ok=True)\n",
    "\n",
    "    total_valid, total_invalid = 0, 0\n",
    "    timestamp = datetime.now().strftime(\"%Y%m%d_%H%M\")\n",
    "    batch_id = uuid.uuid4().hex[:6]\n",
    "    actual_start = start_index\n",
    "    actual_end = start_index + len(data_to_process)\n",
    "\n",
    "    for i in tqdm(range(0, len(data_to_process), save_every)):\n",
    "        batch = data_to_process[i:i + save_every]\n",
    "        batch_start = start_index + i\n",
    "        batch_end = batch_start + len(batch)  # ✅ Accurate\n",
    "\n",
    "        results, invalids = normalize_batch(\n",
    "            records=batch,\n",
    "            start_idx=batch_start,\n",
    "            end_idx=batch_end,\n",
    "            is_resume=is_resume,\n",
    "            output_dir=output_dir,\n",
    "            prompt_template=prompt_template,\n",
    "            schema_model=schema_model\n",
    "        )\n",
    "\n",
    "        total_valid += len(results)\n",
    "        total_invalid += len(invalids)\n",
    "\n",
    "        save_json_output({\"last_index\": batch_end}, str(checkpoint_file), overwrite=True)\n",
    "\n",
    "    # ✅ Save metadata summary\n",
    "    save_metadata_summary(\n",
    "        output_dir=output_dir,\n",
    "        is_resume=is_resume,\n",
    "        input_file=input_filename,\n",
    "        total_records=len(data_to_process),\n",
    "        total_valid=total_valid,\n",
    "        total_invalid=total_invalid,\n",
    "        start_index=actual_start,\n",
    "        end_index=actual_end,\n",
    "        timestamp=timestamp,\n",
    "        batch_id=batch_id\n",
    "    )\n"
   ]
  },
  {
   "cell_type": "markdown",
   "id": "34057ff1",
   "metadata": {},
   "source": [
    "## Run Phase 2 End-to-End"
   ]
  },
  {
   "cell_type": "code",
   "execution_count": null,
   "id": "bcf23348",
   "metadata": {},
   "outputs": [],
   "source": [
    "normalize_file_in_batches(\n",
    "    input_filename=\"parsed_jds.json\",\n",
    "    input_dir=Path(Config.JSON_OUTPUT_DIR),\n",
    "    output_dir=Path(Config.JSON_OUTPUT_NORMALIZED_DIR),\n",
    "    is_resume=False,\n",
    "    save_every=5,\n",
    "    limit=60  # ✅ Process only 20 records max\n",
    ")\n"
   ]
  },
  {
   "cell_type": "code",
   "execution_count": null,
   "id": "3b33fc60",
   "metadata": {},
   "outputs": [
    {
     "name": "stderr",
     "output_type": "stream",
     "text": [
      "  0%|          | 0/497 [00:00<?, ?it/s]"
     ]
    }
   ],
   "source": [
    "normalize_file_in_batches(\n",
    "    input_filename=\"parsed_resumes.json\",\n",
    "    input_dir=Path(Config.JSON_OUTPUT_DIR),\n",
    "    output_dir=Path(Config.JSON_OUTPUT_NORMALIZED_DIR),\n",
    "    is_resume=True,\n",
    "    save_every=5,\n",
    "    limit=2500  # ✅ Process only 20 records max\n",
    ")\n"
   ]
  },
  {
   "cell_type": "markdown",
   "id": "7409286b",
   "metadata": {},
   "source": [
    "## Merge normalized files"
   ]
  },
  {
   "cell_type": "code",
   "execution_count": null,
   "id": "3940c601",
   "metadata": {},
   "outputs": [],
   "source": [
    "# Paths\n",
    "normalized_dir = Path(Config.JSON_OUTPUT_NORMALIZED_DIR)\n",
    "merged_dir = normalized_dir / \"merged\"\n",
    "\n",
    "merge_json_files(\n",
    "    source_dir=normalized_dir,\n",
    "    output_file=normalized_dir / \"normalized_jds.json\",\n",
    "    pattern=\"jds_valid*.json\",\n",
    "    merged_dir=merged_dir\n",
    ")\n",
    "\n",
    "merge_json_files(\n",
    "    source_dir=normalized_dir,\n",
    "    output_file=normalized_dir / \"normalized_resumes.json\",\n",
    "    pattern=\"resumes_valid*.json\",\n",
    "    merged_dir=merged_dir\n",
    ")\n"
   ]
  }
 ],
 "metadata": {
  "kernelspec": {
   "display_name": ".venv (3.12.10)",
   "language": "python",
   "name": "python3"
  },
  "language_info": {
   "codemirror_mode": {
    "name": "ipython",
    "version": 3
   },
   "file_extension": ".py",
   "mimetype": "text/x-python",
   "name": "python",
   "nbconvert_exporter": "python",
   "pygments_lexer": "ipython3",
   "version": "3.12.10"
  }
 },
 "nbformat": 4,
 "nbformat_minor": 5
}
